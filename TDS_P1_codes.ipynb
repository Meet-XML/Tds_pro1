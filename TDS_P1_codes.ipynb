{
  "nbformat": 4,
  "nbformat_minor": 0,
  "metadata": {
    "colab": {
      "provenance": []
    },
    "kernelspec": {
      "name": "python3",
      "display_name": "Python 3"
    },
    "language_info": {
      "name": "python"
    }
  },
  "cells": [
    {
      "cell_type": "code",
      "execution_count": 3,
      "metadata": {
        "colab": {
          "base_uri": "https://localhost:8080/"
        },
        "id": "Fy3T3eeHk9rI",
        "outputId": "6e427984-8c91-424f-a91b-39e46e5e35c7"
      },
      "outputs": [
        {
          "output_type": "stream",
          "name": "stdout",
          "text": [
            "Premalatha-success,anitaa1990,codewithMUHILAN,sygops,Spikeysanju\n"
          ]
        }
      ],
      "source": [
        "#Q1\n",
        "import csv\n",
        "\n",
        "# Define the list to store users from chennai\n",
        "users_in_chennai = []\n",
        "\n",
        "# Read the CSV file with UTF-8 encoding\n",
        "with open('users.csv', 'r', encoding='utf-8') as file:\n",
        "    reader = csv.DictReader(file)\n",
        "    for row in reader:\n",
        "        location = row['location'].strip().lower()\n",
        "        # Check if the user is from chennai\n",
        "        if 'chennai' in location:\n",
        "            users_in_chennai.append({\n",
        "                'login': row['login'],\n",
        "                'followers': int(row['followers'])\n",
        "            })\n",
        "\n",
        "# Sort users based on followers in descending order\n",
        "top_users = sorted(users_in_chennai, key=lambda x: x['followers'], reverse=True)\n",
        "\n",
        "# Extract the top 5 user logins\n",
        "top_5_logins = [user['login'] for user in top_users[:5]]\n",
        "\n",
        "# Print the result as a comma-separated list\n",
        "print(','.join(top_5_logins))\n",
        "\n",
        "\n",
        "\n",
        "\n"
      ]
    },
    {
      "cell_type": "code",
      "source": [
        "#Q2\n",
        "import csv\n",
        "from datetime import datetime\n",
        "\n",
        "# Define the list to store users from chennai\n",
        "users_in_chennai = []\n",
        "\n",
        "# Read the CSV file with UTF-8 encoding\n",
        "with open('users.csv', 'r', encoding='utf-8') as file:\n",
        "    reader = csv.DictReader(file)\n",
        "    for row in reader:\n",
        "        location = row['location'].strip().lower()\n",
        "        # Check if the user is from chennai\n",
        "        if 'chennai' in location:\n",
        "            users_in_chennai.append({\n",
        "                'login': row['login'],\n",
        "                'created_at': datetime.strptime(row['created_at'], '%Y-%m-%dT%H:%M:%SZ')\n",
        "            })\n",
        "\n",
        "# Sort users based on created_at in ascending order\n",
        "sorted_users = sorted(users_in_chennai, key=lambda x: x['created_at'])\n",
        "\n",
        "# Extract the top 5 user logins\n",
        "top_5_earliest_logins = [user['login'] for user in sorted_users[:5]]\n",
        "\n",
        "# Print the result as a comma-separated list\n",
        "print(','.join(top_5_earliest_logins))\n"
      ],
      "metadata": {
        "colab": {
          "base_uri": "https://localhost:8080/"
        },
        "id": "QjYsGLS_qBc0",
        "outputId": "922cd0b0-de49-4608-a111-8d7975e4fdc4"
      },
      "execution_count": 4,
      "outputs": [
        {
          "output_type": "stream",
          "name": "stdout",
          "text": [
            "cnu,railsfactory,sudhirj,ravijaya,badri\n"
          ]
        }
      ]
    },
    {
      "cell_type": "code",
      "source": [
        "#Q3\n",
        "import csv\n",
        "from collections import Counter\n",
        "\n",
        "# Define the list to store license names\n",
        "licenses = []\n",
        "\n",
        "# Read the CSV file with UTF-8 encoding\n",
        "with open('repositories.csv', 'r', encoding='utf-8') as file:\n",
        "    reader = csv.DictReader(file)\n",
        "    for row in reader:\n",
        "        # Check if the license_name field is present and not empty\n",
        "        license_name = row.get('license_name', '').strip()\n",
        "        if license_name:\n",
        "            licenses.append(license_name)\n",
        "\n",
        "# Count the occurrence of each license\n",
        "license_counts = Counter(licenses)\n",
        "\n",
        "# Get the 3 most common licenses\n",
        "top_3_licenses = [license for license, count in license_counts.most_common(3)]\n",
        "\n",
        "# Print the result as a comma-separated list\n",
        "print(','.join(top_3_licenses))"
      ],
      "metadata": {
        "colab": {
          "base_uri": "https://localhost:8080/"
        },
        "id": "ccaRQO30qFIL",
        "outputId": "54b18782-462f-462e-dcc4-33f12780d8fe"
      },
      "execution_count": 5,
      "outputs": [
        {
          "output_type": "stream",
          "name": "stdout",
          "text": [
            "mit,apache-2.0,other\n"
          ]
        }
      ]
    },
    {
      "cell_type": "code",
      "source": [
        "#Q4\n",
        "import csv\n",
        "from collections import Counter\n",
        "\n",
        "# Define the list to store company names\n",
        "companies = []\n",
        "\n",
        "# Read the CSV file with UTF-8 encoding\n",
        "with open('users.csv', 'r', encoding='utf-8') as file:\n",
        "    reader = csv.DictReader(file)\n",
        "    for row in reader:\n",
        "        # Get and clean up the company field (ignore empty values)\n",
        "        company = row.get('company', '').strip()\n",
        "        if company:\n",
        "            companies.append(company)\n",
        "\n",
        "# Count the occurrence of each company\n",
        "company_counts = Counter(companies)\n",
        "\n",
        "# Find the most common company\n",
        "most_common_company = company_counts.most_common(1)\n",
        "\n",
        "# Print the result\n",
        "if most_common_company:\n",
        "    print(most_common_company[0][0])\n",
        "else:\n",
        "    print(\"No company data found.\")\n"
      ],
      "metadata": {
        "colab": {
          "base_uri": "https://localhost:8080/"
        },
        "id": "-ZngzbLmqPAg",
        "outputId": "d68fa30b-9707-4823-b706-8cea26fdbf79"
      },
      "execution_count": 6,
      "outputs": [
        {
          "output_type": "stream",
          "name": "stdout",
          "text": [
            "THOUGHTWORKS\n"
          ]
        }
      ]
    },
    {
      "cell_type": "code",
      "source": [
        "#Q5\n",
        "import csv\n",
        "from collections import Counter\n",
        "\n",
        "# Define the list to store programming languages\n",
        "languages = []\n",
        "\n",
        "# Read the CSV file with UTF-8 encoding\n",
        "with open('repositories.csv', 'r', encoding='utf-8') as file:\n",
        "    reader = csv.DictReader(file)\n",
        "    for row in reader:\n",
        "        # Get and clean up the language field (ignore empty values)\n",
        "        language = row.get('language', '').strip()\n",
        "        if language:\n",
        "            languages.append(language)\n",
        "\n",
        "# Count the occurrence of each language\n",
        "language_counts = Counter(languages)\n",
        "\n",
        "# Find the most common language\n",
        "most_common_language = language_counts.most_common(1)\n",
        "\n",
        "# Print the result\n",
        "if most_common_language:\n",
        "    print(most_common_language[0][0])\n",
        "else:\n",
        "    print(\"No language data found.\")"
      ],
      "metadata": {
        "colab": {
          "base_uri": "https://localhost:8080/"
        },
        "id": "ODaJOeEjqcV9",
        "outputId": "21da179e-e8a0-47dc-c00d-314999aee847"
      },
      "execution_count": 7,
      "outputs": [
        {
          "output_type": "stream",
          "name": "stdout",
          "text": [
            "JavaScript\n"
          ]
        }
      ]
    },
    {
      "cell_type": "code",
      "source": [
        "#Q6\n",
        "import csv\n",
        "from collections import Counter\n",
        "from datetime import datetime\n",
        "\n",
        "# Define the list to store programming languages\n",
        "languages = []\n",
        "\n",
        "# Read the CSV file with UTF-8 encoding\n",
        "with open('repositories.csv', 'r', encoding='utf-8') as file:\n",
        "    reader = csv.DictReader(file)\n",
        "\n",
        "    # Iterate through the rows in the CSV\n",
        "    for row in reader:\n",
        "        # Parse the created_at field\n",
        "        created_at = row.get('created_at', '').strip()\n",
        "\n",
        "        # Convert the date string to a datetime object\n",
        "        if created_at:\n",
        "            user_join_date = datetime.strptime(created_at, \"%Y-%m-%dT%H:%M:%SZ\")\n",
        "\n",
        "            # Check if the user joined after 2020\n",
        "            if user_join_date.year > 2020:\n",
        "                # Get the language field and clean it up\n",
        "                language = row.get('language', '').strip()\n",
        "                if language:\n",
        "                    languages.append(language)\n",
        "\n",
        "# Count the occurrence of each language\n",
        "language_counts = Counter(languages)\n",
        "\n",
        "# Find the two most common languages\n",
        "most_common_languages = language_counts.most_common(2)\n",
        "\n",
        "# Print the second most common language\n",
        "if len(most_common_languages) >= 2:\n",
        "    print(most_common_languages[1][0])  # Second most common language\n",
        "else:\n",
        "    print(\"Not enough language data found.\")"
      ],
      "metadata": {
        "colab": {
          "base_uri": "https://localhost:8080/"
        },
        "id": "WwuF15w5qh8L",
        "outputId": "ab76cb0c-1378-4ef1-f09d-7932ffb23aef"
      },
      "execution_count": 8,
      "outputs": [
        {
          "output_type": "stream",
          "name": "stdout",
          "text": [
            "Python\n"
          ]
        }
      ]
    },
    {
      "cell_type": "code",
      "source": [
        "#Q7\n",
        "import csv\n",
        "from collections import defaultdict\n",
        "\n",
        "# Define a dictionary to store total stars and repository count per language\n",
        "language_stats = defaultdict(lambda: {'stars': 0, 'repos': 0})\n",
        "\n",
        "# Read the CSV file with UTF-8 encoding\n",
        "with open('repositories.csv', 'r', encoding='utf-8') as file:\n",
        "    reader = csv.DictReader(file)\n",
        "\n",
        "    for row in reader:\n",
        "        # Get the language and stargazers_count field\n",
        "        language = row.get('language', '').strip()\n",
        "        stars = row.get('stargazers_count', '0').strip()\n",
        "\n",
        "        # Only process if language and stars are available\n",
        "        if language and stars.isdigit():\n",
        "            language_stats[language]['stars'] += int(stars)\n",
        "            language_stats[language]['repos'] += 1\n",
        "\n",
        "# Calculate average stars for each language\n",
        "average_stars_per_language = {\n",
        "    language: stats['stars'] / stats['repos']\n",
        "    for language, stats in language_stats.items()\n",
        "    if stats['repos'] > 0\n",
        "}\n",
        "\n",
        "# Find the language with the highest average stars\n",
        "if average_stars_per_language:\n",
        "    most_popular_language = max(average_stars_per_language, key=average_stars_per_language.get)\n",
        "    print(most_popular_language)\n",
        "else:\n",
        "    print(\"No language data found.\")"
      ],
      "metadata": {
        "colab": {
          "base_uri": "https://localhost:8080/"
        },
        "id": "VEmm_ItnqnPu",
        "outputId": "690f5b4e-a9f5-4afb-91e2-64b25ac19faa"
      },
      "execution_count": 9,
      "outputs": [
        {
          "output_type": "stream",
          "name": "stdout",
          "text": [
            "Markdown\n"
          ]
        }
      ]
    },
    {
      "cell_type": "code",
      "source": [
        "#Q8\n",
        "import csv\n",
        "\n",
        "# Define a list to store users and their leader strength\n",
        "leader_strengths = []\n",
        "\n",
        "# Read the CSV file with UTF-8 encoding\n",
        "with open('users.csv', 'r', encoding='utf-8') as file:\n",
        "    reader = csv.DictReader(file)\n",
        "\n",
        "    for row in reader:\n",
        "        # Get followers and following counts\n",
        "        followers = int(row.get('followers', 0).strip())\n",
        "        following = int(row.get('following', 0).strip())\n",
        "\n",
        "        # Calculate leader strength\n",
        "        leader_strength = followers / (1 + following)\n",
        "\n",
        "        # Store the user's login and their leader strength\n",
        "        leader_strengths.append((row.get('login', ''), leader_strength))\n",
        "\n",
        "# Sort users by leader strength in descending order\n",
        "leader_strengths.sort(key=lambda x: x[1], reverse=True)\n",
        "\n",
        "# Get the top 5 users\n",
        "top_5_leaders = [login for login, strength in leader_strengths[:5]]\n",
        "\n",
        "# Print the result as a comma-separated list\n",
        "print(','.join(top_5_leaders))"
      ],
      "metadata": {
        "colab": {
          "base_uri": "https://localhost:8080/"
        },
        "id": "ZNgKWZJ6qr4Z",
        "outputId": "9dc31751-50e2-4aec-8daa-65c6e2ed8921"
      },
      "execution_count": 10,
      "outputs": [
        {
          "output_type": "stream",
          "name": "stdout",
          "text": [
            "codewithMUHILAN,Premalatha-success,aswintechguy,manikandanraji,jaganjavid\n"
          ]
        }
      ]
    },
    {
      "cell_type": "code",
      "source": [
        "#Q9\n",
        "import csv\n",
        "import numpy as np\n",
        "\n",
        "# Lists to store the followers and public repos of users from chennai\n",
        "followers = []\n",
        "public_repos = []\n",
        "\n",
        "# Open the users.csv file and read data\n",
        "with open('users.csv', 'r', encoding='utf-8') as file:\n",
        "    reader = csv.DictReader(file)\n",
        "\n",
        "    for row in reader:\n",
        "        # Filter for users in chennai\n",
        "        location = row.get('location', '').strip().lower()\n",
        "        if \"chennai\" in location:\n",
        "            # Get followers and public repositories values\n",
        "            try:\n",
        "                followers_count = int(row['followers'])\n",
        "                public_repos_count = int(row['public_repos'])\n",
        "\n",
        "                # Append the valid values to the lists\n",
        "                followers.append(followers_count)\n",
        "                public_repos.append(public_repos_count)\n",
        "            except ValueError:\n",
        "                # Skip rows with invalid numerical values\n",
        "                continue\n",
        "\n",
        "# Ensure there is data to compute correlation\n",
        "if len(followers) > 1 and len(public_repos) > 1:\n",
        "    # Compute Pearson correlation coefficient\n",
        "    correlation_matrix = np.corrcoef(followers, public_repos)\n",
        "    correlation = correlation_matrix[0, 1]\n",
        "    # Output correlation rounded to 3 decimal places\n",
        "    print(f\"{correlation:.3f}\")\n",
        "else:\n",
        "    print(\"Insufficient data for correlation calculation.\")"
      ],
      "metadata": {
        "colab": {
          "base_uri": "https://localhost:8080/"
        },
        "id": "WEQXoyw4qwm9",
        "outputId": "a204ca84-a779-4e81-df2b-3504bc4b25af"
      },
      "execution_count": 11,
      "outputs": [
        {
          "output_type": "stream",
          "name": "stdout",
          "text": [
            "0.082\n"
          ]
        }
      ]
    },
    {
      "cell_type": "code",
      "source": [
        "#Q10\n",
        "import csv\n",
        "import numpy as np\n",
        "\n",
        "# Lists to store the followers and public repos of users from chennai\n",
        "followers = []\n",
        "public_repos = []\n",
        "\n",
        "# Open the users.csv file and read data\n",
        "with open('users.csv', 'r', encoding='utf-8') as file:\n",
        "    reader = csv.DictReader(file)\n",
        "\n",
        "    for row in reader:\n",
        "        # Filter for users in chennai\n",
        "        location = row.get('location', '').strip().lower()\n",
        "        if \"chennai\" in location:\n",
        "            # Get followers and public repositories values\n",
        "            try:\n",
        "                followers_count = int(row['followers'])\n",
        "                public_repos_count = int(row['public_repos'])\n",
        "\n",
        "                # Append the valid values to the lists\n",
        "                followers.append(followers_count)\n",
        "                public_repos.append(public_repos_count)\n",
        "            except ValueError:\n",
        "                # Skip rows with invalid numerical values\n",
        "                continue\n",
        "\n",
        "# Ensure there is data for regression\n",
        "if len(followers) > 1 and len(public_repos) > 1:\n",
        "    # Perform linear regression: followers ~ public_repos\n",
        "    slope, intercept = np.polyfit(public_repos, followers, 1)\n",
        "\n",
        "    # Output the slope rounded to 3 decimal places\n",
        "    print(f\"{slope:.3f}\")\n",
        "else:\n",
        "    print(\"Insufficient data for regression.\")"
      ],
      "metadata": {
        "colab": {
          "base_uri": "https://localhost:8080/"
        },
        "id": "we40Uqreq6-U",
        "outputId": "aa5f0f43-0eb6-4318-8645-efeb05288281"
      },
      "execution_count": 12,
      "outputs": [
        {
          "output_type": "stream",
          "name": "stdout",
          "text": [
            "0.291\n"
          ]
        }
      ]
    },
    {
      "cell_type": "code",
      "source": [
        "#Q11\n",
        "import pandas as pd\n",
        "import numpy as np\n",
        "\n",
        "def analyze_repo_features(csv_file):\n",
        "\n",
        "    df = pd.read_csv(csv_file)\n",
        "\n",
        "    if df['has_projects'].dtype == 'object':\n",
        "        df['has_projects'] = df['has_projects'].map({'true': True, 'false': False})\n",
        "    if df['has_wiki'].dtype == 'object':\n",
        "        df['has_wiki'] = df['has_wiki'].map({'true': True, 'false': False})\n",
        "\n",
        "    correlation = df['has_projects'].corr(df['has_wiki'])\n",
        "\n",
        "    stats = {\n",
        "        'total_repos': len(df),\n",
        "        'projects_enabled': df['has_projects'].sum(),\n",
        "        'wiki_enabled': df['has_wiki'].sum(),\n",
        "        'both_enabled': ((df['has_projects']) & (df['has_wiki'])).sum(),\n",
        "        'neither_enabled': ((~df['has_projects']) & (~df['has_wiki'])).sum()\n",
        "    }\n",
        "\n",
        "    return round(correlation, 3), stats\n",
        "\n",
        "correlation, stats = analyze_repo_features('repositories.csv')\n",
        "print(f\"Correlation coefficient: {correlation}\")\n",
        "print(\"\\nAdditional Statistics:\")\n",
        "for key, value in stats.items():\n",
        "    print(f\"{key}: {value}\")"
      ],
      "metadata": {
        "colab": {
          "base_uri": "https://localhost:8080/"
        },
        "id": "JGW9r7H-rCP9",
        "outputId": "6d72e085-e838-417c-98a3-16e2bd1eb0fc"
      },
      "execution_count": 13,
      "outputs": [
        {
          "output_type": "stream",
          "name": "stdout",
          "text": [
            "Correlation coefficient: 0.221\n",
            "\n",
            "Additional Statistics:\n",
            "total_repos: 26554\n",
            "projects_enabled: 26410\n",
            "wiki_enabled: 24269\n",
            "both_enabled: 24258\n",
            "neither_enabled: 133\n"
          ]
        }
      ]
    },
    {
      "cell_type": "code",
      "source": [
        "#Q12\n",
        "import pandas as pd\n",
        "\n",
        "def analyze_following_difference(users_csv_path='users.csv'):\n",
        "    # Read the data\n",
        "    df = pd.read_csv(users_csv_path)\n",
        "\n",
        "    # Calculate average following for hireable users\n",
        "    hireable_following = df[df['hireable'] == True]['following'].mean()\n",
        "\n",
        "    # Calculate average following for non-hireable users\n",
        "    non_hireable_following = df[df['hireable'] != True]['following'].mean()\n",
        "\n",
        "    # Calculate the difference rounded to 3 decimal places\n",
        "    difference = round(hireable_following - non_hireable_following, 3)\n",
        "\n",
        "    # Print debug information\n",
        "    print(f\"Number of hireable users: {len(df[df['hireable'] == True])}\")\n",
        "    print(f\"Number of non-hireable users: {len(df[df['hireable'] != True])}\")\n",
        "    print(f\"Average following for hireable users: {hireable_following:.3f}\")\n",
        "    print(f\"Average following for non-hireable users: {non_hireable_following:.3f}\")\n",
        "\n",
        "    return difference\n",
        "\n",
        "# Calculate the difference\n",
        "result = analyze_following_difference()\n",
        "print(f\"\\nDifference in average following: {result:.3f}\")"
      ],
      "metadata": {
        "colab": {
          "base_uri": "https://localhost:8080/"
        },
        "id": "qHD5sI-orHUX",
        "outputId": "4d001f5f-e4ae-4450-af70-bb4021387ab8"
      },
      "execution_count": 14,
      "outputs": [
        {
          "output_type": "stream",
          "name": "stdout",
          "text": [
            "Number of hireable users: 161\n",
            "Number of non-hireable users: 262\n",
            "Average following for hireable users: 368.702\n",
            "Average following for non-hireable users: 125.664\n",
            "\n",
            "Difference in average following: 243.038\n"
          ]
        }
      ]
    },
    {
      "cell_type": "code",
      "source": [
        "#Q13\n",
        "import pandas as pd\n",
        "import statsmodels.api as sm\n",
        "\n",
        "# Load the CSV file\n",
        "csv_file = 'users.csv'  # Ensure this path is correct\n",
        "\n",
        "# Load the CSV into a DataFrame\n",
        "df = pd.read_csv(csv_file)\n",
        "\n",
        "# Check the first few rows and the data types of the DataFrame\n",
        "print(\"DataFrame Overview:\")\n",
        "print(df.head())\n",
        "print(\"\\nDataFrame Info:\")\n",
        "print(df.info())\n",
        "\n",
        "# Filter out users without bios\n",
        "df = df[df['bio'].notnull()]\n",
        "\n",
        "# Calculate the length of each bio in words\n",
        "df['bio_word_count'] = df['bio'].str.split().str.len()\n",
        "\n",
        "# Prepare the independent variable (X) and dependent variable (y)\n",
        "X = df['bio_word_count']\n",
        "y = df['followers']  # Adjust the column name as per your dataset\n",
        "\n",
        "# Add a constant to the independent variable (for the intercept)\n",
        "X = sm.add_constant(X)\n",
        "\n",
        "# Fit the regression model\n",
        "model = sm.OLS(y, X).fit()\n",
        "\n",
        "# Get the slope (coefficient of the bio_word_count)\n",
        "slope = model.params['bio_word_count']\n",
        "\n",
        "# Print the regression slope rounded to three decimal places\n",
        "print(f\"\\nRegression slope of followers on bio word count: {slope:.3f}\")"
      ],
      "metadata": {
        "colab": {
          "base_uri": "https://localhost:8080/"
        },
        "id": "B3231nL-rMQE",
        "outputId": "677a90e9-f2af-451e-c89a-d53f64e54d3d"
      },
      "execution_count": 15,
      "outputs": [
        {
          "output_type": "stream",
          "name": "stdout",
          "text": [
            "DataFrame Overview:\n",
            "                login           name  \\\n",
            "0  Premalatha-success   Premalatha T   \n",
            "1          anitaa1990  Anitaa Murthy   \n",
            "2     codewithMUHILAN        ＭＵＨＩＬＡＮ   \n",
            "3              sygops           SYGK   \n",
            "4         Spikeysanju        Sanju S   \n",
            "\n",
            "                                             company        location  \\\n",
            "0  AI CONSULTANT/DATA SCIENTIST/TRAINER/FREELANCE...         Chennai   \n",
            "1                                                NaN         Chennai   \n",
            "2                                                NaN  chennai, india   \n",
            "3                                                NaN         Chennai   \n",
            "4                                           THISUXHQ  Chennai, India   \n",
            "\n",
            "                     email  hireable  \\\n",
            "0                      NaN     False   \n",
            "1   murthyanitaa@gmail.com      True   \n",
            "2                      NaN     False   \n",
            "3         sygops@gmail.com     False   \n",
            "4  spikeysanju98@gmail.com      True   \n",
            "\n",
            "                                                 bio  public_repos  followers  \\\n",
            "0                               Data Science Fanatic           137       2036   \n",
            "1                    Android Developer/iOS Developer            38       1946   \n",
            "2                          Love with my Passion...❤️             5       1843   \n",
            "3  Do what you feel in your heart to be right. Yo...           113       1815   \n",
            "4  Designer Founder @THISUXHQ | Google Developer ...            65       1297   \n",
            "\n",
            "   following            created_at  \n",
            "0          1  2020-01-13T14:41:16Z  \n",
            "1         12  2016-10-04T05:03:44Z  \n",
            "2          0  2023-07-10T05:30:12Z  \n",
            "3      10219  2015-12-30T12:32:19Z  \n",
            "4         24  2016-11-11T11:33:06Z  \n",
            "\n",
            "DataFrame Info:\n",
            "<class 'pandas.core.frame.DataFrame'>\n",
            "RangeIndex: 423 entries, 0 to 422\n",
            "Data columns (total 11 columns):\n",
            " #   Column        Non-Null Count  Dtype \n",
            "---  ------        --------------  ----- \n",
            " 0   login         423 non-null    object\n",
            " 1   name          420 non-null    object\n",
            " 2   company       261 non-null    object\n",
            " 3   location      423 non-null    object\n",
            " 4   email         199 non-null    object\n",
            " 5   hireable      423 non-null    bool  \n",
            " 6   bio           340 non-null    object\n",
            " 7   public_repos  423 non-null    int64 \n",
            " 8   followers     423 non-null    int64 \n",
            " 9   following     423 non-null    int64 \n",
            " 10  created_at    423 non-null    object\n",
            "dtypes: bool(1), int64(3), object(7)\n",
            "memory usage: 33.6+ KB\n",
            "None\n",
            "\n",
            "Regression slope of followers on bio word count: -1.615\n"
          ]
        }
      ]
    },
    {
      "cell_type": "code",
      "source": [
        "#Q14\n",
        "import csv\n",
        "from collections import Counter\n",
        "from datetime import datetime\n",
        "\n",
        "# Counter to store the number of repositories created by each user on weekends\n",
        "weekend_repo_counts = Counter()\n",
        "\n",
        "# Open the repositories.csv file and read data\n",
        "with open('repositories.csv', 'r', encoding='utf-8') as file:\n",
        "    reader = csv.DictReader(file)\n",
        "\n",
        "    for row in reader:\n",
        "        created_at = row.get('created_at', '')\n",
        "        if created_at:\n",
        "            # Convert created_at string to a datetime object\n",
        "            created_date = datetime.fromisoformat(created_at[:-1])  # Remove 'Z' and convert\n",
        "\n",
        "            # Check if the day is Saturday (5) or Sunday (6)\n",
        "            if created_date.weekday() in [5, 6]:\n",
        "                user_login = row['login']\n",
        "                weekend_repo_counts[user_login] += 1  # Increment the count for the user\n",
        "\n",
        "# Get the top 5 users who created the most repositories on weekends\n",
        "top_users = weekend_repo_counts.most_common(5)\n",
        "\n",
        "# Extract the logins of the top users\n",
        "top_logins = [user[0] for user in top_users]\n",
        "\n",
        "# Output the top users' logins as a comma-separated string\n",
        "print(','.join(top_logins))"
      ],
      "metadata": {
        "colab": {
          "base_uri": "https://localhost:8080/"
        },
        "id": "ecLzv7JsrVf3",
        "outputId": "3f9bea5a-be7d-4675-9479-d55fb0a5bfb4"
      },
      "execution_count": 16,
      "outputs": [
        {
          "output_type": "stream",
          "name": "stdout",
          "text": [
            "aasim-syed,nk-gears,karuppiah7890,rajasegar,TestLeafPages\n"
          ]
        }
      ]
    },
    {
      "cell_type": "code",
      "source": [
        "#Q15\n",
        "import pandas as pd\n",
        "\n",
        "def analyze_email_sharing(users_csv_path='users.csv'):\n",
        "    # Read the complete CSV file\n",
        "    df = pd.read_csv(users_csv_path)\n",
        "\n",
        "    # Convert email column to boolean (True if email exists, False if NaN or empty)\n",
        "    df['has_email'] = df['email'].notna() & (df['email'] != '')\n",
        "\n",
        "    # Calculate for hireable users\n",
        "    hireable_mask = df['hireable'] == True\n",
        "    if hireable_mask.any():\n",
        "        hireable_email_fraction = df[hireable_mask]['has_email'].mean()\n",
        "    else:\n",
        "        hireable_email_fraction = 0\n",
        "\n",
        "    # Calculate for non-hireable users\n",
        "    non_hireable_mask = df['hireable'] != True\n",
        "    if non_hireable_mask.any():\n",
        "        non_hireable_email_fraction = df[non_hireable_mask]['has_email'].mean()\n",
        "    else:\n",
        "        non_hireable_email_fraction = 0\n",
        "\n",
        "    # Calculate difference and round to 3 decimal places\n",
        "    difference = round(hireable_email_fraction - non_hireable_email_fraction, 3)\n",
        "\n",
        "    # Print debug information\n",
        "    print(f\"Total users: {len(df)}\")\n",
        "    print(f\"Hireable users with email: {df[hireable_mask]['has_email'].sum()}/{hireable_mask.sum()}\")\n",
        "    print(f\"Non-hireable users with email: {df[non_hireable_mask]['has_email'].sum()}/{non_hireable_mask.sum()}\")\n",
        "    print(f\"Hireable fraction: {hireable_email_fraction:.3f}\")\n",
        "    print(f\"Non-hireable fraction: {non_hireable_email_fraction:.3f}\")\n",
        "\n",
        "    return difference\n",
        "\n",
        "# Read and analyze the complete dataset\n",
        "result = analyze_email_sharing()\n",
        "print(f\"\\nFinal result: {result:.3f}\")"
      ],
      "metadata": {
        "colab": {
          "base_uri": "https://localhost:8080/"
        },
        "id": "rnrIpzZ1rbP0",
        "outputId": "3923aa16-bb4c-42d5-d988-47818f2a1307"
      },
      "execution_count": 17,
      "outputs": [
        {
          "output_type": "stream",
          "name": "stdout",
          "text": [
            "Total users: 423\n",
            "Hireable users with email: 101/161\n",
            "Non-hireable users with email: 98/262\n",
            "Hireable fraction: 0.627\n",
            "Non-hireable fraction: 0.374\n",
            "\n",
            "Final result: 0.253\n"
          ]
        }
      ]
    },
    {
      "cell_type": "code",
      "source": [
        "#Q16\n",
        "import csv\n",
        "from collections import Counter\n",
        "\n",
        "# Counter to store surname frequencies\n",
        "surname_counter = Counter()\n",
        "\n",
        "# Open the users.csv file and read data\n",
        "with open('users.csv', 'r', encoding='utf-8') as file:\n",
        "    reader = csv.DictReader(file)\n",
        "\n",
        "    for row in reader:\n",
        "        name = row.get('name', '').strip()\n",
        "        if name:  # Ignore missing names\n",
        "            # Split the name by whitespace and get the last word as the surname\n",
        "            surname = name.split()[-1]\n",
        "            surname_counter[surname] += 1\n",
        "\n",
        "# Find the maximum frequency of surnames\n",
        "if surname_counter:\n",
        "    max_count = max(surname_counter.values())\n",
        "    # Get all surnames with the maximum frequency\n",
        "    most_common_surnames = [surname for surname, count in surname_counter.items() if count == max_count]\n",
        "    # Sort surnames alphabetically\n",
        "    most_common_surnames.sort()\n",
        "    # Output the result\n",
        "    print(f\"{', '.join(most_common_surnames)}: {max_count}\")\n",
        "else:\n",
        "    print(\"No names found.\")\n"
      ],
      "metadata": {
        "colab": {
          "base_uri": "https://localhost:8080/"
        },
        "id": "dttVzdZYrhIn",
        "outputId": "33cb22c5-3da6-415d-e1d7-29e64a995451"
      },
      "execution_count": 18,
      "outputs": [
        {
          "output_type": "stream",
          "name": "stdout",
          "text": [
            "S: 19\n"
          ]
        }
      ]
    }
  ]
}